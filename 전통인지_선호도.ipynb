{
  "cells": [
    {
      "cell_type": "markdown",
      "metadata": {
        "id": "view-in-github",
        "colab_type": "text"
      },
      "source": [
        "<a href=\"https://colab.research.google.com/github/leechanwoo-kor/colab_repository/blob/main/%EC%A0%84%ED%86%B5%EC%9D%B8%EC%A7%80_%EC%84%A0%ED%98%B8%EB%8F%84.ipynb\" target=\"_parent\"><img src=\"https://colab.research.google.com/assets/colab-badge.svg\" alt=\"Open In Colab\"/></a>"
      ]
    },
    {
      "cell_type": "markdown",
      "source": [
        "### 데이터 불러오기"
      ],
      "metadata": {
        "id": "lKIGqDad3UVe"
      }
    },
    {
      "cell_type": "code",
      "execution_count": 1,
      "metadata": {
        "colab": {
          "base_uri": "https://localhost:8080/"
        },
        "id": "k9OrzcMir48A",
        "outputId": "7abcf10e-e4ba-4091-9d2b-2500c9197d8f"
      },
      "outputs": [
        {
          "output_type": "stream",
          "name": "stdout",
          "text": [
            "Drive already mounted at /drive; to attempt to forcibly remount, call drive.mount(\"/drive\", force_remount=True).\n"
          ]
        }
      ],
      "source": [
        "from google.colab import drive\n",
        "drive.mount('/drive')"
      ]
    },
    {
      "cell_type": "code",
      "execution_count": 2,
      "metadata": {
        "id": "gRkxqK3suQ99"
      },
      "outputs": [],
      "source": [
        "file_name=\"/drive/MyDrive/Colab Notebooks/전통인지_선호도/전통인지_선호도.CSV\""
      ]
    },
    {
      "cell_type": "code",
      "execution_count": 45,
      "metadata": {
        "colab": {
          "base_uri": "https://localhost:8080/",
          "height": 254
        },
        "id": "c7qsL-wyuUI0",
        "outputId": "59efe9fa-7abb-4373-d3b6-e4c5d57e9245"
      },
      "outputs": [
        {
          "output_type": "stream",
          "name": "stdout",
          "text": [
            "dataframe의 크기: (39, 23)\n"
          ]
        },
        {
          "output_type": "execute_result",
          "data": {
            "text/plain": [
              "   구분   이름 성별  한복  한과  기와집  다보탑  씨름  비녀  전통상차림  ...  갓  식혜  온돌방  도자기  널뛰기  \\\n",
              "0  열매  김도겸  남   1   1    2    0   0   0      2  ...  2   0    2    2    0   \n",
              "1  열매  김민재  남   2   1    1    0   1   0      1  ...  2   0    0    0    0   \n",
              "2  열매  김시윤  남   0   0    1    0   2   0      0  ...  1   0    0    1    0   \n",
              "3  열매  남하랑  남   0   0    1    0   0   0      0  ...  0   0    0    0    0   \n",
              "4  열매  노시우  남   0   0    0    1   0   0      0  ...  0   0    0    0    0   \n",
              "\n",
              "   고무신  산적  탈  부채춤  창호지문  \n",
              "0    1   0  1    0     1  \n",
              "1    0   2  2    0     2  \n",
              "2    0   1  0    1     2  \n",
              "3    0   1  0    0     0  \n",
              "4    0   0  0    0     1  \n",
              "\n",
              "[5 rows x 23 columns]"
            ],
            "text/html": [
              "\n",
              "  <div id=\"df-d68e3d4e-1abf-4c58-8a81-e6eac416f8ce\">\n",
              "    <div class=\"colab-df-container\">\n",
              "      <div>\n",
              "<style scoped>\n",
              "    .dataframe tbody tr th:only-of-type {\n",
              "        vertical-align: middle;\n",
              "    }\n",
              "\n",
              "    .dataframe tbody tr th {\n",
              "        vertical-align: top;\n",
              "    }\n",
              "\n",
              "    .dataframe thead th {\n",
              "        text-align: right;\n",
              "    }\n",
              "</style>\n",
              "<table border=\"1\" class=\"dataframe\">\n",
              "  <thead>\n",
              "    <tr style=\"text-align: right;\">\n",
              "      <th></th>\n",
              "      <th>구분</th>\n",
              "      <th>이름</th>\n",
              "      <th>성별</th>\n",
              "      <th>한복</th>\n",
              "      <th>한과</th>\n",
              "      <th>기와집</th>\n",
              "      <th>다보탑</th>\n",
              "      <th>씨름</th>\n",
              "      <th>비녀</th>\n",
              "      <th>전통상차림</th>\n",
              "      <th>...</th>\n",
              "      <th>갓</th>\n",
              "      <th>식혜</th>\n",
              "      <th>온돌방</th>\n",
              "      <th>도자기</th>\n",
              "      <th>널뛰기</th>\n",
              "      <th>고무신</th>\n",
              "      <th>산적</th>\n",
              "      <th>탈</th>\n",
              "      <th>부채춤</th>\n",
              "      <th>창호지문</th>\n",
              "    </tr>\n",
              "  </thead>\n",
              "  <tbody>\n",
              "    <tr>\n",
              "      <th>0</th>\n",
              "      <td>열매</td>\n",
              "      <td>김도겸</td>\n",
              "      <td>남</td>\n",
              "      <td>1</td>\n",
              "      <td>1</td>\n",
              "      <td>2</td>\n",
              "      <td>0</td>\n",
              "      <td>0</td>\n",
              "      <td>0</td>\n",
              "      <td>2</td>\n",
              "      <td>...</td>\n",
              "      <td>2</td>\n",
              "      <td>0</td>\n",
              "      <td>2</td>\n",
              "      <td>2</td>\n",
              "      <td>0</td>\n",
              "      <td>1</td>\n",
              "      <td>0</td>\n",
              "      <td>1</td>\n",
              "      <td>0</td>\n",
              "      <td>1</td>\n",
              "    </tr>\n",
              "    <tr>\n",
              "      <th>1</th>\n",
              "      <td>열매</td>\n",
              "      <td>김민재</td>\n",
              "      <td>남</td>\n",
              "      <td>2</td>\n",
              "      <td>1</td>\n",
              "      <td>1</td>\n",
              "      <td>0</td>\n",
              "      <td>1</td>\n",
              "      <td>0</td>\n",
              "      <td>1</td>\n",
              "      <td>...</td>\n",
              "      <td>2</td>\n",
              "      <td>0</td>\n",
              "      <td>0</td>\n",
              "      <td>0</td>\n",
              "      <td>0</td>\n",
              "      <td>0</td>\n",
              "      <td>2</td>\n",
              "      <td>2</td>\n",
              "      <td>0</td>\n",
              "      <td>2</td>\n",
              "    </tr>\n",
              "    <tr>\n",
              "      <th>2</th>\n",
              "      <td>열매</td>\n",
              "      <td>김시윤</td>\n",
              "      <td>남</td>\n",
              "      <td>0</td>\n",
              "      <td>0</td>\n",
              "      <td>1</td>\n",
              "      <td>0</td>\n",
              "      <td>2</td>\n",
              "      <td>0</td>\n",
              "      <td>0</td>\n",
              "      <td>...</td>\n",
              "      <td>1</td>\n",
              "      <td>0</td>\n",
              "      <td>0</td>\n",
              "      <td>1</td>\n",
              "      <td>0</td>\n",
              "      <td>0</td>\n",
              "      <td>1</td>\n",
              "      <td>0</td>\n",
              "      <td>1</td>\n",
              "      <td>2</td>\n",
              "    </tr>\n",
              "    <tr>\n",
              "      <th>3</th>\n",
              "      <td>열매</td>\n",
              "      <td>남하랑</td>\n",
              "      <td>남</td>\n",
              "      <td>0</td>\n",
              "      <td>0</td>\n",
              "      <td>1</td>\n",
              "      <td>0</td>\n",
              "      <td>0</td>\n",
              "      <td>0</td>\n",
              "      <td>0</td>\n",
              "      <td>...</td>\n",
              "      <td>0</td>\n",
              "      <td>0</td>\n",
              "      <td>0</td>\n",
              "      <td>0</td>\n",
              "      <td>0</td>\n",
              "      <td>0</td>\n",
              "      <td>1</td>\n",
              "      <td>0</td>\n",
              "      <td>0</td>\n",
              "      <td>0</td>\n",
              "    </tr>\n",
              "    <tr>\n",
              "      <th>4</th>\n",
              "      <td>열매</td>\n",
              "      <td>노시우</td>\n",
              "      <td>남</td>\n",
              "      <td>0</td>\n",
              "      <td>0</td>\n",
              "      <td>0</td>\n",
              "      <td>1</td>\n",
              "      <td>0</td>\n",
              "      <td>0</td>\n",
              "      <td>0</td>\n",
              "      <td>...</td>\n",
              "      <td>0</td>\n",
              "      <td>0</td>\n",
              "      <td>0</td>\n",
              "      <td>0</td>\n",
              "      <td>0</td>\n",
              "      <td>0</td>\n",
              "      <td>0</td>\n",
              "      <td>0</td>\n",
              "      <td>0</td>\n",
              "      <td>1</td>\n",
              "    </tr>\n",
              "  </tbody>\n",
              "</table>\n",
              "<p>5 rows × 23 columns</p>\n",
              "</div>\n",
              "      <button class=\"colab-df-convert\" onclick=\"convertToInteractive('df-d68e3d4e-1abf-4c58-8a81-e6eac416f8ce')\"\n",
              "              title=\"Convert this dataframe to an interactive table.\"\n",
              "              style=\"display:none;\">\n",
              "        \n",
              "  <svg xmlns=\"http://www.w3.org/2000/svg\" height=\"24px\"viewBox=\"0 0 24 24\"\n",
              "       width=\"24px\">\n",
              "    <path d=\"M0 0h24v24H0V0z\" fill=\"none\"/>\n",
              "    <path d=\"M18.56 5.44l.94 2.06.94-2.06 2.06-.94-2.06-.94-.94-2.06-.94 2.06-2.06.94zm-11 1L8.5 8.5l.94-2.06 2.06-.94-2.06-.94L8.5 2.5l-.94 2.06-2.06.94zm10 10l.94 2.06.94-2.06 2.06-.94-2.06-.94-.94-2.06-.94 2.06-2.06.94z\"/><path d=\"M17.41 7.96l-1.37-1.37c-.4-.4-.92-.59-1.43-.59-.52 0-1.04.2-1.43.59L10.3 9.45l-7.72 7.72c-.78.78-.78 2.05 0 2.83L4 21.41c.39.39.9.59 1.41.59.51 0 1.02-.2 1.41-.59l7.78-7.78 2.81-2.81c.8-.78.8-2.07 0-2.86zM5.41 20L4 18.59l7.72-7.72 1.47 1.35L5.41 20z\"/>\n",
              "  </svg>\n",
              "      </button>\n",
              "      \n",
              "  <style>\n",
              "    .colab-df-container {\n",
              "      display:flex;\n",
              "      flex-wrap:wrap;\n",
              "      gap: 12px;\n",
              "    }\n",
              "\n",
              "    .colab-df-convert {\n",
              "      background-color: #E8F0FE;\n",
              "      border: none;\n",
              "      border-radius: 50%;\n",
              "      cursor: pointer;\n",
              "      display: none;\n",
              "      fill: #1967D2;\n",
              "      height: 32px;\n",
              "      padding: 0 0 0 0;\n",
              "      width: 32px;\n",
              "    }\n",
              "\n",
              "    .colab-df-convert:hover {\n",
              "      background-color: #E2EBFA;\n",
              "      box-shadow: 0px 1px 2px rgba(60, 64, 67, 0.3), 0px 1px 3px 1px rgba(60, 64, 67, 0.15);\n",
              "      fill: #174EA6;\n",
              "    }\n",
              "\n",
              "    [theme=dark] .colab-df-convert {\n",
              "      background-color: #3B4455;\n",
              "      fill: #D2E3FC;\n",
              "    }\n",
              "\n",
              "    [theme=dark] .colab-df-convert:hover {\n",
              "      background-color: #434B5C;\n",
              "      box-shadow: 0px 1px 3px 1px rgba(0, 0, 0, 0.15);\n",
              "      filter: drop-shadow(0px 1px 2px rgba(0, 0, 0, 0.3));\n",
              "      fill: #FFFFFF;\n",
              "    }\n",
              "  </style>\n",
              "\n",
              "      <script>\n",
              "        const buttonEl =\n",
              "          document.querySelector('#df-d68e3d4e-1abf-4c58-8a81-e6eac416f8ce button.colab-df-convert');\n",
              "        buttonEl.style.display =\n",
              "          google.colab.kernel.accessAllowed ? 'block' : 'none';\n",
              "\n",
              "        async function convertToInteractive(key) {\n",
              "          const element = document.querySelector('#df-d68e3d4e-1abf-4c58-8a81-e6eac416f8ce');\n",
              "          const dataTable =\n",
              "            await google.colab.kernel.invokeFunction('convertToInteractive',\n",
              "                                                     [key], {});\n",
              "          if (!dataTable) return;\n",
              "\n",
              "          const docLinkHtml = 'Like what you see? Visit the ' +\n",
              "            '<a target=\"_blank\" href=https://colab.research.google.com/notebooks/data_table.ipynb>data table notebook</a>'\n",
              "            + ' to learn more about interactive tables.';\n",
              "          element.innerHTML = '';\n",
              "          dataTable['output_type'] = 'display_data';\n",
              "          await google.colab.output.renderOutput(dataTable, element);\n",
              "          const docLink = document.createElement('div');\n",
              "          docLink.innerHTML = docLinkHtml;\n",
              "          element.appendChild(docLink);\n",
              "        }\n",
              "      </script>\n",
              "    </div>\n",
              "  </div>\n",
              "  "
            ]
          },
          "metadata": {},
          "execution_count": 45
        }
      ],
      "source": [
        "import pandas as pd  # 사용할 데이터를 dataframe 형태로 불러옴\n",
        "import scipy.stats as stats  # t-test를 위한 라이브러리\n",
        "\n",
        "df = pd.read_csv(file_name, encoding='cp949') # csv 파일 불러오기\n",
        "\n",
        "print('dataframe의 크기:', df.shape)  # dataframe의 크기 확인\n",
        "df.head()  # dataframe의 처음 5개 행만 보여주기"
      ]
    },
    {
      "cell_type": "markdown",
      "source": [
        "### 데이터 전처리"
      ],
      "metadata": {
        "id": "CIKmU6Wf3tY_"
      }
    },
    {
      "cell_type": "code",
      "source": [
        "df1 = df[['구분','한복']].copy()\n",
        "df1.rename(columns = {'한복' : '의생활'}, inplace=True)\n",
        "df2 = df[['구분','비녀']].copy()\n",
        "df2.rename(columns = {'비녀' : '의생활'}, inplace=True)\n",
        "df3 = df[['구분','갓']].copy()\n",
        "df3.rename(columns = {'갓' : '의생활'}, inplace=True)\n",
        "df4 = df[['구분','고무신']].copy()\n",
        "df4.rename(columns = {'고무신' : '의생활'}, inplace=True)\n",
        "\n",
        "의생활 = pd.concat([df1,df2,df3,df4])\n",
        "# 의생활.head()"
      ],
      "metadata": {
        "id": "CZO1qXwPwzco"
      },
      "execution_count": 4,
      "outputs": []
    },
    {
      "cell_type": "code",
      "source": [
        "df1 = df[['구분','한과']].copy()\n",
        "df1.rename(columns = {'한과' : '식생활'}, inplace=True)\n",
        "df2 = df[['구분','전통상차림']].copy()\n",
        "df2.rename(columns = {'전통상차림' : '식생활'}, inplace=True)\n",
        "df3 = df[['구분','식혜']].copy()\n",
        "df3.rename(columns = {'식혜' : '식생활'}, inplace=True)\n",
        "df4 = df[['구분','산적']].copy()\n",
        "df4.rename(columns = {'산적' : '식생활'}, inplace=True)\n",
        "\n",
        "식생활 = pd.concat([df1,df2,df3,df4])\n",
        "# 식생활.head()"
      ],
      "metadata": {
        "id": "WY8llomx3__2"
      },
      "execution_count": 5,
      "outputs": []
    },
    {
      "cell_type": "code",
      "source": [
        "df1 = df[['구분','기와집']].copy()\n",
        "df1.rename(columns = {'기와집' : '주생활'}, inplace=True)\n",
        "df2 = df[['구분','온돌방']].copy()\n",
        "df2.rename(columns = {'온돌방' : '주생활'}, inplace=True)\n",
        "df3 = df[['구분','창호지문']].copy()\n",
        "df3.rename(columns = {'창호지문' : '주생활'}, inplace=True)\n",
        "\n",
        "주생활 = pd.concat([df1,df2,df3])\n",
        "# 주생활.head()"
      ],
      "metadata": {
        "id": "MYBK1I9Z4XrB"
      },
      "execution_count": 6,
      "outputs": []
    },
    {
      "cell_type": "code",
      "source": [
        "df1 = df[['구분','다보탑']].copy()\n",
        "df1.rename(columns = {'다보탑' : '문화재'}, inplace=True)\n",
        "df2 = df[['구분','경복궁']].copy()\n",
        "df2.rename(columns = {'경복궁' : '문화재'}, inplace=True)\n",
        "df3 = df[['구분','도자기']].copy()\n",
        "df3.rename(columns = {'도자기' : '문화재'}, inplace=True)\n",
        "df4 = df[['구분','탈']].copy()\n",
        "df4.rename(columns = {'탈' : '문화재'}, inplace=True)\n",
        "\n",
        "문화재 = pd.concat([df1,df2,df3,df4])\n",
        "# 문화재.head()"
      ],
      "metadata": {
        "id": "jr9RkgGC4nTg"
      },
      "execution_count": 7,
      "outputs": []
    },
    {
      "cell_type": "code",
      "source": [
        "df1 = df[['구분','씨름']].copy()\n",
        "df1.rename(columns = {'씨름' : '전통놀이'}, inplace=True)\n",
        "df2 = df[['구분','널뛰기']].copy()\n",
        "df2.rename(columns = {'널뛰기' : '전통놀이'}, inplace=True)\n",
        "df3 = df[['구분','강강수월래']].copy()\n",
        "df3.rename(columns = {'강강수월래' : '전통놀이'}, inplace=True)\n",
        "\n",
        "전통놀이 = pd.concat([df1,df2,df3])\n",
        "# 전통놀이.head()"
      ],
      "metadata": {
        "id": "9bYkoc5640dH"
      },
      "execution_count": 8,
      "outputs": []
    },
    {
      "cell_type": "code",
      "source": [
        "df1 = df[['구분','풍속화']].copy()\n",
        "df1.rename(columns = {'풍속화' : '전통예술'}, inplace=True)\n",
        "df2 = df[['구분','부채춤']].copy()\n",
        "df2.rename(columns = {'부채춤' : '전통예술'}, inplace=True)\n",
        "\n",
        "전통예술 = pd.concat([df1,df2])\n",
        "# 전통예술.head()"
      ],
      "metadata": {
        "id": "Nah4855x5v9S"
      },
      "execution_count": 9,
      "outputs": []
    },
    {
      "cell_type": "markdown",
      "source": [
        "### 그룹별 기술통계값 확인"
      ],
      "metadata": {
        "id": "oR-H60-b6kQf"
      }
    },
    {
      "cell_type": "code",
      "source": [
        "import numpy as np"
      ],
      "metadata": {
        "id": "La0cCQGS1q3o"
      },
      "execution_count": 30,
      "outputs": []
    },
    {
      "cell_type": "code",
      "source": [
        "실험집단 = 의생활[의생활['구분']=='열매']\n",
        "비교집단 = 의생활[의생활['구분']=='행복']\n",
        "\n",
        "print(\"[의생활] 실험집단 평균:\", np.round(np.mean(실험집단['의생활']),2), \"분산:\", np.round(np.var(실험집단['의생활']),2), \"표준편차:\", np.round(np.std(실험집단['의생활']),2))\n",
        "print(\"[의생활] 비교집단 평균:\", np.round(np.mean(비교집단['의생활']),2), \"분산:\", np.round(np.var(비교집단['의생활']),2), \"표준편차:\", np.round(np.std(비교집단['의생활']),2))"
      ],
      "metadata": {
        "colab": {
          "base_uri": "https://localhost:8080/"
        },
        "id": "Mrmui5nE2n4I",
        "outputId": "0fda6ce8-dbdb-4d4e-9478-a6569834cf31"
      },
      "execution_count": 32,
      "outputs": [
        {
          "output_type": "stream",
          "name": "stdout",
          "text": [
            "[의생활] 실험집단 평균: 0.92 분산: 0.74 표준편차: 0.86\n",
            "[의생활] 비교집단 평균: 0.75 분산: 0.58 표준편차: 0.76\n"
          ]
        }
      ]
    },
    {
      "cell_type": "code",
      "source": [
        "실험집단 = 식생활[식생활['구분']=='열매']\n",
        "비교집단 = 식생활[식생활['구분']=='행복']\n",
        "\n",
        "print(\"[식생활] 실험집단 평균:\", np.round(np.mean(실험집단['식생활']),2), \"분산:\", np.round(np.var(실험집단['식생활']),2), \"표준편차:\", np.round(np.std(실험집단['식생활']),2))\n",
        "print(\"[식생활] 비교집단 평균:\", np.round(np.mean(비교집단['식생활']),2), \"분산:\", np.round(np.var(비교집단['식생활']),2), \"표준편차:\", np.round(np.std(비교집단['식생활']),2))"
      ],
      "metadata": {
        "colab": {
          "base_uri": "https://localhost:8080/"
        },
        "id": "7i9OG1Zd8w2s",
        "outputId": "abf15e62-acbd-4f6f-e0d8-05405e60208b"
      },
      "execution_count": 33,
      "outputs": [
        {
          "output_type": "stream",
          "name": "stdout",
          "text": [
            "[식생활] 실험집단 평균: 0.62 분산: 0.55 표준편차: 0.74\n",
            "[식생활] 비교집단 평균: 0.61 분산: 0.49 표준편차: 0.7\n"
          ]
        }
      ]
    },
    {
      "cell_type": "code",
      "source": [
        "dataframes = [의생활, 식생활, 주생활, 문화재, 전통놀이, 전통예술]\n",
        "dataframe_names = ['의생활', '식생활', '주생활', '문화재', '전통놀이', '전통예술']"
      ],
      "metadata": {
        "id": "mrka6mgr9twP"
      },
      "execution_count": 43,
      "outputs": []
    },
    {
      "cell_type": "code",
      "source": [
        "for i, df in enumerate(dataframes):\n",
        "    실험집단 = df[df['구분']=='열매']\n",
        "    비교집단 = df[df['구분']=='행복']\n",
        "    \n",
        "    print(f\"[{dataframe_names[i]}] 실험집단\")\n",
        "    print(\"평균:\", np.round(np.mean(실험집단[dataframe_names[i]]),2), \"분산:\", np.round(np.var(실험집단[dataframe_names[i]]),2), \"표준편차:\", np.round(np.std(실험집단[dataframe_names[i]]),2))\n",
        "    print(f\"[{dataframe_names[i]}] 비교집단\")\n",
        "    print(\"평균:\", np.round(np.mean(비교집단[dataframe_names[i]]),2), \"분산:\", np.round(np.var(비교집단[dataframe_names[i]]),2), \"표준편차:\", np.round(np.std(비교집단[dataframe_names[i]]),2))\n",
        "    print('t-test 결과:', stats.ttest_ind(실험집단[dataframe_names[i]], 비교집단[dataframe_names[i]], equal_var=True))   "
      ],
      "metadata": {
        "colab": {
          "base_uri": "https://localhost:8080/"
        },
        "id": "un5x48SWAeqO",
        "outputId": "0c6b9fef-8e17-4b14-8246-354908d6b436"
      },
      "execution_count": 47,
      "outputs": [
        {
          "output_type": "stream",
          "name": "stdout",
          "text": [
            "[의생활] 실험집단\n",
            "평균: 0.92 분산: 0.74 표준편차: 0.86\n",
            "[의생활] 비교집단\n",
            "평균: 0.75 분산: 0.58 표준편차: 0.76\n",
            "t-test 결과: Ttest_indResult(statistic=1.2633104784648443, pvalue=0.20838684271296543)\n",
            "[식생활] 실험집단\n",
            "평균: 0.62 분산: 0.55 표준편차: 0.74\n",
            "[식생활] 비교집단\n",
            "평균: 0.61 분산: 0.49 표준편차: 0.7\n",
            "t-test 결과: Ttest_indResult(statistic=0.06817164386407125, pvalue=0.9457374316775413)\n",
            "[주생활] 실험집단\n",
            "평균: 0.78 분산: 0.49 표준편차: 0.7\n",
            "[주생활] 비교집단\n",
            "평균: 0.57 분산: 0.39 표준편차: 0.63\n",
            "t-test 결과: Ttest_indResult(statistic=1.6320523423271025, pvalue=0.10540385402506969)\n",
            "[문화재] 실험집단\n",
            "평균: 0.51 분산: 0.54 표준편차: 0.73\n",
            "[문화재] 비교집단\n",
            "평균: 0.4 분산: 0.3 표준편차: 0.54\n",
            "t-test 결과: Ttest_indResult(statistic=1.035510837708751, pvalue=0.30205370387590885)\n",
            "[전통놀이] 실험집단\n",
            "평균: 0.7 분산: 0.69 표준편차: 0.83\n",
            "[전통놀이] 비교집단\n",
            "평균: 0.8 분산: 0.79 표준편차: 0.89\n",
            "t-test 결과: Ttest_indResult(statistic=-0.6102536379328749, pvalue=0.5428978781424858)\n",
            "[전통예술] 실험집단\n",
            "평균: 0.4 분산: 0.38 표준편차: 0.62\n",
            "[전통예술] 비교집단\n",
            "평균: 0.47 분산: 0.47 표준편차: 0.69\n",
            "t-test 결과: Ttest_indResult(statistic=-0.45011869849136216, pvalue=0.6539061950852794)\n"
          ]
        }
      ]
    },
    {
      "cell_type": "code",
      "source": [
        "유의미한 차이가 있는지 확인하기 위하여 위와 같이 독립표본 T 검정을 실시하였습니다.\n",
        "p-value가 0.05보다 높은 것은 통계적으로 유의미한 차이를 보이지 않는 것으로 나타남\n",
        "p-value가 0.05보다 작은 것은 통계적으로 유의미한 차이가 있는 것으로 볼 수 있다.\n",
        "\n"
      ],
      "metadata": {
        "id": "UtQfMtWR23i1"
      },
      "execution_count": 13,
      "outputs": []
    }
  ],
  "metadata": {
    "colab": {
      "provenance": [],
      "authorship_tag": "ABX9TyMpHQXha6FLYiVftEWqgyJ+",
      "include_colab_link": true
    },
    "kernelspec": {
      "display_name": "Python 3",
      "name": "python3"
    },
    "language_info": {
      "name": "python"
    }
  },
  "nbformat": 4,
  "nbformat_minor": 0
}